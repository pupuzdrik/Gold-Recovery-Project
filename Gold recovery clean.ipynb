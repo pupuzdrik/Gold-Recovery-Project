{
 "cells": [
  {
   "cell_type": "markdown",
   "metadata": {},
   "source": [
    "Project main goal - to find the best model for prediction of the gold recovery amount from gold ore.\n",
    "\n",
    "We have full data , train data and test data that needs to be checked and prepared for the analysis, so let's do so."
   ]
  },
  {
   "cell_type": "markdown",
   "metadata": {},
   "source": [
    "Import libraries."
   ]
  },
  {
   "cell_type": "code",
   "execution_count": 54,
   "metadata": {},
   "outputs": [],
   "source": [
    "import pandas as pd\n",
    "import numpy as np\n",
    "import seaborn as sns\n",
    "from matplotlib import pyplot as plt\n",
    "from sklearn.model_selection import train_test_split as tts \n",
    "from sklearn.model_selection import cross_val_score\n",
    "from sklearn.model_selection import GridSearchCV\n",
    "from sklearn.linear_model import LinearRegression\n",
    "from sklearn.linear_model import Lasso\n",
    "from sklearn.neighbors import KNeighborsRegressor\n",
    "from sklearn.tree import DecisionTreeRegressor\n",
    "from sklearn.ensemble import RandomForestRegressor\n",
    "from sklearn.metrics import make_scorer\n",
    "from sklearn.metrics import mean_squared_error\n",
    "from sklearn.metrics import mean_absolute_error\n",
    "from numpy.random import RandomState\n",
    "from pprint import pprint\n",
    "from sklearn.impute import KNNImputer\n",
    "from sklearn.preprocessing import MinMaxScaler\n",
    "import warnings\n",
    "\n",
    "warnings.filterwarnings('ignore')"
   ]
  },
  {
   "cell_type": "markdown",
   "metadata": {},
   "source": [
    " ## Project instructions\n",
    " \n",
    " 1. Prepare the data"
   ]
  },
  {
   "cell_type": "markdown",
   "metadata": {},
   "source": [
    "1.1 Open the files and look into the data."
   ]
  },
  {
   "cell_type": "code",
   "execution_count": 55,
   "metadata": {},
   "outputs": [],
   "source": [
    "gold_full=pd.read_csv('/datasets/gold_recovery_full.csv')\n",
    "gold_test=pd.read_csv('/datasets/gold_recovery_test.csv')\n",
    "gold_train=pd.read_csv('/datasets/gold_recovery_train.csv')"
   ]
  },
  {
   "cell_type": "code",
   "execution_count": 56,
   "metadata": {},
   "outputs": [
    {
     "name": "stdout",
     "output_type": "stream",
     "text": [
      "                  date  final.output.concentrate_ag  \\\n",
      "0  2016-01-15 00:00:00                     6.055403   \n",
      "1  2016-01-15 01:00:00                     6.029369   \n",
      "\n",
      "   final.output.concentrate_pb  final.output.concentrate_sol  \\\n",
      "0                     9.889648                      5.507324   \n",
      "1                     9.968944                      5.257781   \n",
      "\n",
      "   final.output.concentrate_au  final.output.recovery  final.output.tail_ag  \\\n",
      "0                    42.192020              70.541216             10.411962   \n",
      "1                    42.701629              69.266198             10.462676   \n",
      "\n",
      "   final.output.tail_pb  final.output.tail_sol  final.output.tail_au  ...  \\\n",
      "0              0.895447              16.904297              2.143149  ...   \n",
      "1              0.927452              16.634514              2.224930  ...   \n",
      "\n",
      "   secondary_cleaner.state.floatbank4_a_air  \\\n",
      "0                                 14.016835   \n",
      "1                                 13.992281   \n",
      "\n",
      "   secondary_cleaner.state.floatbank4_a_level  \\\n",
      "0                                 -502.488007   \n",
      "1                                 -505.503262   \n",
      "\n",
      "   secondary_cleaner.state.floatbank4_b_air  \\\n",
      "0                                 12.099931   \n",
      "1                                 11.950531   \n",
      "\n",
      "   secondary_cleaner.state.floatbank4_b_level  \\\n",
      "0                                 -504.715942   \n",
      "1                                 -501.331529   \n",
      "\n",
      "   secondary_cleaner.state.floatbank5_a_air  \\\n",
      "0                                  9.925633   \n",
      "1                                 10.039245   \n",
      "\n",
      "   secondary_cleaner.state.floatbank5_a_level  \\\n",
      "0                                 -498.310211   \n",
      "1                                 -500.169983   \n",
      "\n",
      "   secondary_cleaner.state.floatbank5_b_air  \\\n",
      "0                                  8.079666   \n",
      "1                                  7.984757   \n",
      "\n",
      "   secondary_cleaner.state.floatbank5_b_level  \\\n",
      "0                                 -500.470978   \n",
      "1                                 -500.582168   \n",
      "\n",
      "   secondary_cleaner.state.floatbank6_a_air  \\\n",
      "0                                 14.151341   \n",
      "1                                 13.998353   \n",
      "\n",
      "   secondary_cleaner.state.floatbank6_a_level  \n",
      "0                                 -605.841980  \n",
      "1                                 -599.787184  \n",
      "\n",
      "[2 rows x 87 columns]\n"
     ]
    }
   ],
   "source": [
    "print(gold_full.head(2))"
   ]
  },
  {
   "cell_type": "code",
   "execution_count": 57,
   "metadata": {
    "scrolled": true
   },
   "outputs": [
    {
     "name": "stdout",
     "output_type": "stream",
     "text": [
      "                  date  primary_cleaner.input.sulfate  \\\n",
      "0  2016-09-01 00:59:59                     210.800909   \n",
      "1  2016-09-01 01:59:59                     215.392455   \n",
      "\n",
      "   primary_cleaner.input.depressant  primary_cleaner.input.feed_size  \\\n",
      "0                         14.993118                             8.08   \n",
      "1                         14.987471                             8.08   \n",
      "\n",
      "   primary_cleaner.input.xanthate  primary_cleaner.state.floatbank8_a_air  \\\n",
      "0                        1.005021                             1398.981301   \n",
      "1                        0.990469                             1398.777912   \n",
      "\n",
      "   primary_cleaner.state.floatbank8_a_level  \\\n",
      "0                               -500.225577   \n",
      "1                               -500.057435   \n",
      "\n",
      "   primary_cleaner.state.floatbank8_b_air  \\\n",
      "0                             1399.144926   \n",
      "1                             1398.055362   \n",
      "\n",
      "   primary_cleaner.state.floatbank8_b_level  \\\n",
      "0                               -499.919735   \n",
      "1                               -499.778182   \n",
      "\n",
      "   primary_cleaner.state.floatbank8_c_air  ...  \\\n",
      "0                             1400.102998  ...   \n",
      "1                             1396.151033  ...   \n",
      "\n",
      "   secondary_cleaner.state.floatbank4_a_air  \\\n",
      "0                                 12.023554   \n",
      "1                                 12.058140   \n",
      "\n",
      "   secondary_cleaner.state.floatbank4_a_level  \\\n",
      "0                                 -497.795834   \n",
      "1                                 -498.695773   \n",
      "\n",
      "   secondary_cleaner.state.floatbank4_b_air  \\\n",
      "0                                  8.016656   \n",
      "1                                  8.130979   \n",
      "\n",
      "   secondary_cleaner.state.floatbank4_b_level  \\\n",
      "0                                 -501.289139   \n",
      "1                                 -499.634209   \n",
      "\n",
      "   secondary_cleaner.state.floatbank5_a_air  \\\n",
      "0                                  7.946562   \n",
      "1                                  7.958270   \n",
      "\n",
      "   secondary_cleaner.state.floatbank5_a_level  \\\n",
      "0                                 -432.317850   \n",
      "1                                 -525.839648   \n",
      "\n",
      "   secondary_cleaner.state.floatbank5_b_air  \\\n",
      "0                                  4.872511   \n",
      "1                                  4.878850   \n",
      "\n",
      "   secondary_cleaner.state.floatbank5_b_level  \\\n",
      "0                                 -500.037437   \n",
      "1                                 -500.162375   \n",
      "\n",
      "   secondary_cleaner.state.floatbank6_a_air  \\\n",
      "0                                 26.705889   \n",
      "1                                 25.019940   \n",
      "\n",
      "   secondary_cleaner.state.floatbank6_a_level  \n",
      "0                                 -499.709414  \n",
      "1                                 -499.819438  \n",
      "\n",
      "[2 rows x 53 columns]\n"
     ]
    }
   ],
   "source": [
    "print(gold_test.head(2))"
   ]
  },
  {
   "cell_type": "code",
   "execution_count": 58,
   "metadata": {
    "scrolled": true
   },
   "outputs": [
    {
     "name": "stdout",
     "output_type": "stream",
     "text": [
      "                  date  final.output.concentrate_ag  \\\n",
      "0  2016-01-15 00:00:00                     6.055403   \n",
      "1  2016-01-15 01:00:00                     6.029369   \n",
      "\n",
      "   final.output.concentrate_pb  final.output.concentrate_sol  \\\n",
      "0                     9.889648                      5.507324   \n",
      "1                     9.968944                      5.257781   \n",
      "\n",
      "   final.output.concentrate_au  final.output.recovery  final.output.tail_ag  \\\n",
      "0                    42.192020              70.541216             10.411962   \n",
      "1                    42.701629              69.266198             10.462676   \n",
      "\n",
      "   final.output.tail_pb  final.output.tail_sol  final.output.tail_au  ...  \\\n",
      "0              0.895447              16.904297              2.143149  ...   \n",
      "1              0.927452              16.634514              2.224930  ...   \n",
      "\n",
      "   secondary_cleaner.state.floatbank4_a_air  \\\n",
      "0                                 14.016835   \n",
      "1                                 13.992281   \n",
      "\n",
      "   secondary_cleaner.state.floatbank4_a_level  \\\n",
      "0                                 -502.488007   \n",
      "1                                 -505.503262   \n",
      "\n",
      "   secondary_cleaner.state.floatbank4_b_air  \\\n",
      "0                                 12.099931   \n",
      "1                                 11.950531   \n",
      "\n",
      "   secondary_cleaner.state.floatbank4_b_level  \\\n",
      "0                                 -504.715942   \n",
      "1                                 -501.331529   \n",
      "\n",
      "   secondary_cleaner.state.floatbank5_a_air  \\\n",
      "0                                  9.925633   \n",
      "1                                 10.039245   \n",
      "\n",
      "   secondary_cleaner.state.floatbank5_a_level  \\\n",
      "0                                 -498.310211   \n",
      "1                                 -500.169983   \n",
      "\n",
      "   secondary_cleaner.state.floatbank5_b_air  \\\n",
      "0                                  8.079666   \n",
      "1                                  7.984757   \n",
      "\n",
      "   secondary_cleaner.state.floatbank5_b_level  \\\n",
      "0                                 -500.470978   \n",
      "1                                 -500.582168   \n",
      "\n",
      "   secondary_cleaner.state.floatbank6_a_air  \\\n",
      "0                                 14.151341   \n",
      "1                                 13.998353   \n",
      "\n",
      "   secondary_cleaner.state.floatbank6_a_level  \n",
      "0                                 -605.841980  \n",
      "1                                 -599.787184  \n",
      "\n",
      "[2 rows x 87 columns]\n"
     ]
    }
   ],
   "source": [
    "print(gold_train.head(2))"
   ]
  },
  {
   "cell_type": "code",
   "execution_count": 59,
   "metadata": {},
   "outputs": [
    {
     "data": {
      "text/plain": [
       "Index(['date', 'final.output.concentrate_ag', 'final.output.concentrate_pb',\n",
       "       'final.output.concentrate_sol', 'final.output.concentrate_au',\n",
       "       'final.output.recovery', 'final.output.tail_ag', 'final.output.tail_pb',\n",
       "       'final.output.tail_sol', 'final.output.tail_au',\n",
       "       'primary_cleaner.input.sulfate', 'primary_cleaner.input.depressant',\n",
       "       'primary_cleaner.input.feed_size', 'primary_cleaner.input.xanthate',\n",
       "       'primary_cleaner.output.concentrate_ag',\n",
       "       'primary_cleaner.output.concentrate_pb',\n",
       "       'primary_cleaner.output.concentrate_sol',\n",
       "       'primary_cleaner.output.concentrate_au',\n",
       "       'primary_cleaner.output.tail_ag', 'primary_cleaner.output.tail_pb',\n",
       "       'primary_cleaner.output.tail_sol', 'primary_cleaner.output.tail_au',\n",
       "       'primary_cleaner.state.floatbank8_a_air',\n",
       "       'primary_cleaner.state.floatbank8_a_level',\n",
       "       'primary_cleaner.state.floatbank8_b_air',\n",
       "       'primary_cleaner.state.floatbank8_b_level',\n",
       "       'primary_cleaner.state.floatbank8_c_air',\n",
       "       'primary_cleaner.state.floatbank8_c_level',\n",
       "       'primary_cleaner.state.floatbank8_d_air',\n",
       "       'primary_cleaner.state.floatbank8_d_level',\n",
       "       'rougher.calculation.sulfate_to_au_concentrate',\n",
       "       'rougher.calculation.floatbank10_sulfate_to_au_feed',\n",
       "       'rougher.calculation.floatbank11_sulfate_to_au_feed',\n",
       "       'rougher.calculation.au_pb_ratio', 'rougher.input.feed_ag',\n",
       "       'rougher.input.feed_pb', 'rougher.input.feed_rate',\n",
       "       'rougher.input.feed_size', 'rougher.input.feed_sol',\n",
       "       'rougher.input.feed_au', 'rougher.input.floatbank10_sulfate',\n",
       "       'rougher.input.floatbank10_xanthate',\n",
       "       'rougher.input.floatbank11_sulfate',\n",
       "       'rougher.input.floatbank11_xanthate', 'rougher.output.concentrate_ag',\n",
       "       'rougher.output.concentrate_pb', 'rougher.output.concentrate_sol',\n",
       "       'rougher.output.concentrate_au', 'rougher.output.recovery',\n",
       "       'rougher.output.tail_ag', 'rougher.output.tail_pb',\n",
       "       'rougher.output.tail_sol', 'rougher.output.tail_au',\n",
       "       'rougher.state.floatbank10_a_air', 'rougher.state.floatbank10_a_level',\n",
       "       'rougher.state.floatbank10_b_air', 'rougher.state.floatbank10_b_level',\n",
       "       'rougher.state.floatbank10_c_air', 'rougher.state.floatbank10_c_level',\n",
       "       'rougher.state.floatbank10_d_air', 'rougher.state.floatbank10_d_level',\n",
       "       'rougher.state.floatbank10_e_air', 'rougher.state.floatbank10_e_level',\n",
       "       'rougher.state.floatbank10_f_air', 'rougher.state.floatbank10_f_level',\n",
       "       'secondary_cleaner.output.tail_ag', 'secondary_cleaner.output.tail_pb',\n",
       "       'secondary_cleaner.output.tail_sol', 'secondary_cleaner.output.tail_au',\n",
       "       'secondary_cleaner.state.floatbank2_a_air',\n",
       "       'secondary_cleaner.state.floatbank2_a_level',\n",
       "       'secondary_cleaner.state.floatbank2_b_air',\n",
       "       'secondary_cleaner.state.floatbank2_b_level',\n",
       "       'secondary_cleaner.state.floatbank3_a_air',\n",
       "       'secondary_cleaner.state.floatbank3_a_level',\n",
       "       'secondary_cleaner.state.floatbank3_b_air',\n",
       "       'secondary_cleaner.state.floatbank3_b_level',\n",
       "       'secondary_cleaner.state.floatbank4_a_air',\n",
       "       'secondary_cleaner.state.floatbank4_a_level',\n",
       "       'secondary_cleaner.state.floatbank4_b_air',\n",
       "       'secondary_cleaner.state.floatbank4_b_level',\n",
       "       'secondary_cleaner.state.floatbank5_a_air',\n",
       "       'secondary_cleaner.state.floatbank5_a_level',\n",
       "       'secondary_cleaner.state.floatbank5_b_air',\n",
       "       'secondary_cleaner.state.floatbank5_b_level',\n",
       "       'secondary_cleaner.state.floatbank6_a_air',\n",
       "       'secondary_cleaner.state.floatbank6_a_level'],\n",
       "      dtype='object')"
      ]
     },
     "execution_count": 59,
     "metadata": {},
     "output_type": "execute_result"
    }
   ],
   "source": [
    "gold_train.columns.unique()"
   ]
  },
  {
   "cell_type": "markdown",
   "metadata": {},
   "source": [
    "1.2. Check that recovery is calculated correctly. Using the training set, calculate recovery for the rougher.output.recovery feature. Find the MAE between your calculations and the feature values. Provide findings."
   ]
  },
  {
   "cell_type": "code",
   "execution_count": 60,
   "metadata": {},
   "outputs": [
    {
     "name": "stdout",
     "output_type": "stream",
     "text": [
      "Mean Absolute Error : 9.303415616264301e-15\n"
     ]
    }
   ],
   "source": [
    "# Function for recovery calculation\n",
    "def recovery(df,c,f,t):\n",
    "    rec=100*((df[c]*(df[f]-df[t]))/(df[f]*(df[c]-df[t])))\n",
    "    return rec\n",
    "# Calculation without NaNs\n",
    "vals_pred=recovery(gold_train.dropna(subset=['rougher.output.recovery']),'rougher.output.concentrate_au','rougher.input.feed_au','rougher.output.tail_au')\n",
    "vals_act=gold_train['rougher.output.recovery'].dropna().to_list()\n",
    "print(f'Mean Absolute Error : {mean_absolute_error(vals_act,vals_pred)}')"
   ]
  },
  {
   "cell_type": "markdown",
   "metadata": {},
   "source": [
    "The MAE between calculated results and gold_trian dataframe is very small, which means that recovery calculation is correct."
   ]
  },
  {
   "cell_type": "markdown",
   "metadata": {},
   "source": [
    "1.3. Analyze the features not available in the test set. What are these parameters? What is their type?"
   ]
  },
  {
   "cell_type": "code",
   "execution_count": 61,
   "metadata": {},
   "outputs": [
    {
     "name": "stdout",
     "output_type": "stream",
     "text": [
      "['final.output.concentrate_ag',\n",
      " 'final.output.concentrate_pb',\n",
      " 'final.output.concentrate_sol',\n",
      " 'final.output.concentrate_au',\n",
      " 'final.output.recovery',\n",
      " 'final.output.tail_ag',\n",
      " 'final.output.tail_pb',\n",
      " 'final.output.tail_sol',\n",
      " 'final.output.tail_au',\n",
      " 'primary_cleaner.output.concentrate_ag',\n",
      " 'primary_cleaner.output.concentrate_pb',\n",
      " 'primary_cleaner.output.concentrate_sol',\n",
      " 'primary_cleaner.output.concentrate_au',\n",
      " 'primary_cleaner.output.tail_ag',\n",
      " 'primary_cleaner.output.tail_pb',\n",
      " 'primary_cleaner.output.tail_sol',\n",
      " 'primary_cleaner.output.tail_au',\n",
      " 'rougher.calculation.sulfate_to_au_concentrate',\n",
      " 'rougher.calculation.floatbank10_sulfate_to_au_feed',\n",
      " 'rougher.calculation.floatbank11_sulfate_to_au_feed',\n",
      " 'rougher.calculation.au_pb_ratio',\n",
      " 'rougher.output.concentrate_ag',\n",
      " 'rougher.output.concentrate_pb',\n",
      " 'rougher.output.concentrate_sol',\n",
      " 'rougher.output.concentrate_au',\n",
      " 'rougher.output.recovery',\n",
      " 'rougher.output.tail_ag',\n",
      " 'rougher.output.tail_pb',\n",
      " 'rougher.output.tail_sol',\n",
      " 'rougher.output.tail_au',\n",
      " 'secondary_cleaner.output.tail_ag',\n",
      " 'secondary_cleaner.output.tail_pb',\n",
      " 'secondary_cleaner.output.tail_sol',\n",
      " 'secondary_cleaner.output.tail_au']\n"
     ]
    }
   ],
   "source": [
    "#list of columns that are in gold_full dataframe but not in the gold_test dataframe\n",
    "not_in_test=[x for x in gold_full.columns if x not in gold_test.columns]\n",
    "pprint(not_in_test)"
   ]
  },
  {
   "cell_type": "markdown",
   "metadata": {},
   "source": [
    "From the list above we see that there are columns which are not included in test dataframe. Test data frame includes:"
   ]
  },
  {
   "cell_type": "code",
   "execution_count": 62,
   "metadata": {},
   "outputs": [
    {
     "data": {
      "text/plain": [
       "Index(['date', 'primary_cleaner.input.sulfate',\n",
       "       'primary_cleaner.input.depressant', 'primary_cleaner.input.feed_size',\n",
       "       'primary_cleaner.input.xanthate',\n",
       "       'primary_cleaner.state.floatbank8_a_air',\n",
       "       'primary_cleaner.state.floatbank8_a_level',\n",
       "       'primary_cleaner.state.floatbank8_b_air',\n",
       "       'primary_cleaner.state.floatbank8_b_level',\n",
       "       'primary_cleaner.state.floatbank8_c_air',\n",
       "       'primary_cleaner.state.floatbank8_c_level',\n",
       "       'primary_cleaner.state.floatbank8_d_air',\n",
       "       'primary_cleaner.state.floatbank8_d_level', 'rougher.input.feed_ag',\n",
       "       'rougher.input.feed_pb', 'rougher.input.feed_rate',\n",
       "       'rougher.input.feed_size', 'rougher.input.feed_sol',\n",
       "       'rougher.input.feed_au', 'rougher.input.floatbank10_sulfate',\n",
       "       'rougher.input.floatbank10_xanthate',\n",
       "       'rougher.input.floatbank11_sulfate',\n",
       "       'rougher.input.floatbank11_xanthate', 'rougher.state.floatbank10_a_air',\n",
       "       'rougher.state.floatbank10_a_level', 'rougher.state.floatbank10_b_air',\n",
       "       'rougher.state.floatbank10_b_level', 'rougher.state.floatbank10_c_air',\n",
       "       'rougher.state.floatbank10_c_level', 'rougher.state.floatbank10_d_air',\n",
       "       'rougher.state.floatbank10_d_level', 'rougher.state.floatbank10_e_air',\n",
       "       'rougher.state.floatbank10_e_level', 'rougher.state.floatbank10_f_air',\n",
       "       'rougher.state.floatbank10_f_level',\n",
       "       'secondary_cleaner.state.floatbank2_a_air',\n",
       "       'secondary_cleaner.state.floatbank2_a_level',\n",
       "       'secondary_cleaner.state.floatbank2_b_air',\n",
       "       'secondary_cleaner.state.floatbank2_b_level',\n",
       "       'secondary_cleaner.state.floatbank3_a_air',\n",
       "       'secondary_cleaner.state.floatbank3_a_level',\n",
       "       'secondary_cleaner.state.floatbank3_b_air',\n",
       "       'secondary_cleaner.state.floatbank3_b_level',\n",
       "       'secondary_cleaner.state.floatbank4_a_air',\n",
       "       'secondary_cleaner.state.floatbank4_a_level',\n",
       "       'secondary_cleaner.state.floatbank4_b_air',\n",
       "       'secondary_cleaner.state.floatbank4_b_level',\n",
       "       'secondary_cleaner.state.floatbank5_a_air',\n",
       "       'secondary_cleaner.state.floatbank5_a_level',\n",
       "       'secondary_cleaner.state.floatbank5_b_air',\n",
       "       'secondary_cleaner.state.floatbank5_b_level',\n",
       "       'secondary_cleaner.state.floatbank6_a_air',\n",
       "       'secondary_cleaner.state.floatbank6_a_level'],\n",
       "      dtype='object')"
      ]
     },
     "execution_count": 62,
     "metadata": {},
     "output_type": "execute_result"
    }
   ],
   "source": [
    "gold_test.columns.unique()"
   ]
  },
  {
   "cell_type": "markdown",
   "metadata": {},
   "source": [
    "It seems like test stage testing only 'first information' about raw material.\n",
    "\n",
    "Also from previos projects we saw that target columns were included and we don't see it here, so we will have to add them from gold_full dataframe."
   ]
  },
  {
   "cell_type": "code",
   "execution_count": 63,
   "metadata": {},
   "outputs": [],
   "source": [
    "gold_test=pd.merge(gold_test,gold_full[['date','final.output.recovery','rougher.output.recovery']],on='date',how='left')\n",
    "\n",
    "#Also we need to drop features that are not in test from train\n",
    "gold_train=gold_train.drop(columns=[x for x in gold_train if x not in gold_test],axis=1)\n",
    "\n",
    "#Dropping features from gold_test that are not in gold train\n",
    "gold_test=gold_test.drop(columns=[x for x in gold_test if x not in gold_train],axis=1)"
   ]
  },
  {
   "cell_type": "markdown",
   "metadata": {},
   "source": [
    "1.4. Perform data preprocessing.\n",
    "\n",
    "Let's examine the test and train dataframe."
   ]
  },
  {
   "cell_type": "code",
   "execution_count": 64,
   "metadata": {},
   "outputs": [
    {
     "name": "stdout",
     "output_type": "stream",
     "text": [
      "<class 'pandas.core.frame.DataFrame'>\n",
      "Int64Index: 5856 entries, 0 to 5855\n",
      "Data columns (total 55 columns):\n",
      " #   Column                                      Non-Null Count  Dtype  \n",
      "---  ------                                      --------------  -----  \n",
      " 0   date                                        5856 non-null   object \n",
      " 1   primary_cleaner.input.sulfate               5554 non-null   float64\n",
      " 2   primary_cleaner.input.depressant            5572 non-null   float64\n",
      " 3   primary_cleaner.input.feed_size             5856 non-null   float64\n",
      " 4   primary_cleaner.input.xanthate              5690 non-null   float64\n",
      " 5   primary_cleaner.state.floatbank8_a_air      5840 non-null   float64\n",
      " 6   primary_cleaner.state.floatbank8_a_level    5840 non-null   float64\n",
      " 7   primary_cleaner.state.floatbank8_b_air      5840 non-null   float64\n",
      " 8   primary_cleaner.state.floatbank8_b_level    5840 non-null   float64\n",
      " 9   primary_cleaner.state.floatbank8_c_air      5840 non-null   float64\n",
      " 10  primary_cleaner.state.floatbank8_c_level    5840 non-null   float64\n",
      " 11  primary_cleaner.state.floatbank8_d_air      5840 non-null   float64\n",
      " 12  primary_cleaner.state.floatbank8_d_level    5840 non-null   float64\n",
      " 13  rougher.input.feed_ag                       5840 non-null   float64\n",
      " 14  rougher.input.feed_pb                       5840 non-null   float64\n",
      " 15  rougher.input.feed_rate                     5816 non-null   float64\n",
      " 16  rougher.input.feed_size                     5834 non-null   float64\n",
      " 17  rougher.input.feed_sol                      5789 non-null   float64\n",
      " 18  rougher.input.feed_au                       5840 non-null   float64\n",
      " 19  rougher.input.floatbank10_sulfate           5599 non-null   float64\n",
      " 20  rougher.input.floatbank10_xanthate          5733 non-null   float64\n",
      " 21  rougher.input.floatbank11_sulfate           5801 non-null   float64\n",
      " 22  rougher.input.floatbank11_xanthate          5503 non-null   float64\n",
      " 23  rougher.state.floatbank10_a_air             5839 non-null   float64\n",
      " 24  rougher.state.floatbank10_a_level           5840 non-null   float64\n",
      " 25  rougher.state.floatbank10_b_air             5839 non-null   float64\n",
      " 26  rougher.state.floatbank10_b_level           5840 non-null   float64\n",
      " 27  rougher.state.floatbank10_c_air             5839 non-null   float64\n",
      " 28  rougher.state.floatbank10_c_level           5840 non-null   float64\n",
      " 29  rougher.state.floatbank10_d_air             5839 non-null   float64\n",
      " 30  rougher.state.floatbank10_d_level           5840 non-null   float64\n",
      " 31  rougher.state.floatbank10_e_air             5839 non-null   float64\n",
      " 32  rougher.state.floatbank10_e_level           5840 non-null   float64\n",
      " 33  rougher.state.floatbank10_f_air             5839 non-null   float64\n",
      " 34  rougher.state.floatbank10_f_level           5840 non-null   float64\n",
      " 35  secondary_cleaner.state.floatbank2_a_air    5836 non-null   float64\n",
      " 36  secondary_cleaner.state.floatbank2_a_level  5840 non-null   float64\n",
      " 37  secondary_cleaner.state.floatbank2_b_air    5833 non-null   float64\n",
      " 38  secondary_cleaner.state.floatbank2_b_level  5840 non-null   float64\n",
      " 39  secondary_cleaner.state.floatbank3_a_air    5822 non-null   float64\n",
      " 40  secondary_cleaner.state.floatbank3_a_level  5840 non-null   float64\n",
      " 41  secondary_cleaner.state.floatbank3_b_air    5840 non-null   float64\n",
      " 42  secondary_cleaner.state.floatbank3_b_level  5840 non-null   float64\n",
      " 43  secondary_cleaner.state.floatbank4_a_air    5840 non-null   float64\n",
      " 44  secondary_cleaner.state.floatbank4_a_level  5840 non-null   float64\n",
      " 45  secondary_cleaner.state.floatbank4_b_air    5840 non-null   float64\n",
      " 46  secondary_cleaner.state.floatbank4_b_level  5840 non-null   float64\n",
      " 47  secondary_cleaner.state.floatbank5_a_air    5840 non-null   float64\n",
      " 48  secondary_cleaner.state.floatbank5_a_level  5840 non-null   float64\n",
      " 49  secondary_cleaner.state.floatbank5_b_air    5840 non-null   float64\n",
      " 50  secondary_cleaner.state.floatbank5_b_level  5840 non-null   float64\n",
      " 51  secondary_cleaner.state.floatbank6_a_air    5840 non-null   float64\n",
      " 52  secondary_cleaner.state.floatbank6_a_level  5840 non-null   float64\n",
      " 53  final.output.recovery                       5414 non-null   float64\n",
      " 54  rougher.output.recovery                     5310 non-null   float64\n",
      "dtypes: float64(54), object(1)\n",
      "memory usage: 2.5+ MB\n",
      "None\n",
      "\n",
      "<class 'pandas.core.frame.DataFrame'>\n",
      "RangeIndex: 16860 entries, 0 to 16859\n",
      "Data columns (total 55 columns):\n",
      " #   Column                                      Non-Null Count  Dtype  \n",
      "---  ------                                      --------------  -----  \n",
      " 0   date                                        16860 non-null  object \n",
      " 1   final.output.recovery                       15339 non-null  float64\n",
      " 2   primary_cleaner.input.sulfate               15553 non-null  float64\n",
      " 3   primary_cleaner.input.depressant            15598 non-null  float64\n",
      " 4   primary_cleaner.input.feed_size             16860 non-null  float64\n",
      " 5   primary_cleaner.input.xanthate              15875 non-null  float64\n",
      " 6   primary_cleaner.state.floatbank8_a_air      16820 non-null  float64\n",
      " 7   primary_cleaner.state.floatbank8_a_level    16827 non-null  float64\n",
      " 8   primary_cleaner.state.floatbank8_b_air      16820 non-null  float64\n",
      " 9   primary_cleaner.state.floatbank8_b_level    16833 non-null  float64\n",
      " 10  primary_cleaner.state.floatbank8_c_air      16822 non-null  float64\n",
      " 11  primary_cleaner.state.floatbank8_c_level    16833 non-null  float64\n",
      " 12  primary_cleaner.state.floatbank8_d_air      16821 non-null  float64\n",
      " 13  primary_cleaner.state.floatbank8_d_level    16833 non-null  float64\n",
      " 14  rougher.input.feed_ag                       16778 non-null  float64\n",
      " 15  rougher.input.feed_pb                       16632 non-null  float64\n",
      " 16  rougher.input.feed_rate                     16347 non-null  float64\n",
      " 17  rougher.input.feed_size                     16443 non-null  float64\n",
      " 18  rougher.input.feed_sol                      16568 non-null  float64\n",
      " 19  rougher.input.feed_au                       16777 non-null  float64\n",
      " 20  rougher.input.floatbank10_sulfate           15816 non-null  float64\n",
      " 21  rougher.input.floatbank10_xanthate          16514 non-null  float64\n",
      " 22  rougher.input.floatbank11_sulfate           16237 non-null  float64\n",
      " 23  rougher.input.floatbank11_xanthate          14956 non-null  float64\n",
      " 24  rougher.output.recovery                     14287 non-null  float64\n",
      " 25  rougher.state.floatbank10_a_air             16807 non-null  float64\n",
      " 26  rougher.state.floatbank10_a_level           16807 non-null  float64\n",
      " 27  rougher.state.floatbank10_b_air             16807 non-null  float64\n",
      " 28  rougher.state.floatbank10_b_level           16807 non-null  float64\n",
      " 29  rougher.state.floatbank10_c_air             16807 non-null  float64\n",
      " 30  rougher.state.floatbank10_c_level           16814 non-null  float64\n",
      " 31  rougher.state.floatbank10_d_air             16802 non-null  float64\n",
      " 32  rougher.state.floatbank10_d_level           16809 non-null  float64\n",
      " 33  rougher.state.floatbank10_e_air             16257 non-null  float64\n",
      " 34  rougher.state.floatbank10_e_level           16809 non-null  float64\n",
      " 35  rougher.state.floatbank10_f_air             16802 non-null  float64\n",
      " 36  rougher.state.floatbank10_f_level           16802 non-null  float64\n",
      " 37  secondary_cleaner.state.floatbank2_a_air    16497 non-null  float64\n",
      " 38  secondary_cleaner.state.floatbank2_a_level  16751 non-null  float64\n",
      " 39  secondary_cleaner.state.floatbank2_b_air    16705 non-null  float64\n",
      " 40  secondary_cleaner.state.floatbank2_b_level  16748 non-null  float64\n",
      " 41  secondary_cleaner.state.floatbank3_a_air    16763 non-null  float64\n",
      " 42  secondary_cleaner.state.floatbank3_a_level  16747 non-null  float64\n",
      " 43  secondary_cleaner.state.floatbank3_b_air    16752 non-null  float64\n",
      " 44  secondary_cleaner.state.floatbank3_b_level  16750 non-null  float64\n",
      " 45  secondary_cleaner.state.floatbank4_a_air    16731 non-null  float64\n",
      " 46  secondary_cleaner.state.floatbank4_a_level  16747 non-null  float64\n",
      " 47  secondary_cleaner.state.floatbank4_b_air    16768 non-null  float64\n",
      " 48  secondary_cleaner.state.floatbank4_b_level  16767 non-null  float64\n",
      " 49  secondary_cleaner.state.floatbank5_a_air    16775 non-null  float64\n",
      " 50  secondary_cleaner.state.floatbank5_a_level  16775 non-null  float64\n",
      " 51  secondary_cleaner.state.floatbank5_b_air    16775 non-null  float64\n",
      " 52  secondary_cleaner.state.floatbank5_b_level  16776 non-null  float64\n",
      " 53  secondary_cleaner.state.floatbank6_a_air    16757 non-null  float64\n",
      " 54  secondary_cleaner.state.floatbank6_a_level  16775 non-null  float64\n",
      "dtypes: float64(54), object(1)\n",
      "memory usage: 7.1+ MB\n",
      "None\n"
     ]
    }
   ],
   "source": [
    "print(gold_test.info())\n",
    "print()\n",
    "print(gold_train.info())"
   ]
  },
  {
   "cell_type": "markdown",
   "metadata": {},
   "source": [
    "All those two dataframes  have object type data that will be removed since we don't need it for purification steps.\n",
    "\n",
    "There are no boolean values therefore the encoding is not necessary.\n",
    "\n",
    "There are missing values to dill with."
   ]
  },
  {
   "cell_type": "markdown",
   "metadata": {},
   "source": [
    "Let's check duplicates."
   ]
  },
  {
   "cell_type": "code",
   "execution_count": 65,
   "metadata": {},
   "outputs": [
    {
     "name": "stdout",
     "output_type": "stream",
     "text": [
      "Duplicates in gold_test dataframe: 0\n",
      "\n",
      "Duplicates in gold_train dataframe: 0\n"
     ]
    }
   ],
   "source": [
    "print('Duplicates in gold_test dataframe:', gold_test.duplicated().sum())\n",
    "print()\n",
    "print('Duplicates in gold_train dataframe:', gold_train.duplicated().sum())"
   ]
  },
  {
   "cell_type": "markdown",
   "metadata": {},
   "source": [
    "No duplicates."
   ]
  },
  {
   "cell_type": "markdown",
   "metadata": {},
   "source": [
    "Let's check the amount of NaNs."
   ]
  },
  {
   "cell_type": "code",
   "execution_count": 66,
   "metadata": {},
   "outputs": [
    {
     "name": "stdout",
     "output_type": "stream",
     "text": [
      "NaNs in gold_test dataframe: 627\n",
      "\n",
      "NaNs in gold_train dataframe: 4181\n"
     ]
    }
   ],
   "source": [
    "print('NaNs in gold_test dataframe:', gold_test.isnull().any(axis=1).sum())\n",
    "print()\n",
    "print('NaNs in gold_train dataframe:', gold_train.isnull().any(axis=1).sum())"
   ]
  },
  {
   "cell_type": "markdown",
   "metadata": {},
   "source": [
    "In this dataframe we have a lot of features and there is possibility for corelation between those features so proper method for filling the missing values would be K-Nearest Neighbor. But before that we need to scale the data."
   ]
  },
  {
   "cell_type": "markdown",
   "metadata": {},
   "source": [
    "Let's scale the data."
   ]
  },
  {
   "cell_type": "code",
   "execution_count": 67,
   "metadata": {},
   "outputs": [],
   "source": [
    "scaler=MinMaxScaler()\n",
    "# As we deed in previous projects the scale step is implemented on features and not data.\n",
    "\n",
    "scale_col=[x for x in gold_train.columns if x not in ['date','rougher.output.recovery','final.output.recovery']]\n",
    "non_scale_col=['date','rougher.output.recovery','final.output.recovery']\n"
   ]
  },
  {
   "cell_type": "markdown",
   "metadata": {},
   "source": [
    "Let's scale the features for test and train dataframes."
   ]
  },
  {
   "cell_type": "code",
   "execution_count": 68,
   "metadata": {},
   "outputs": [],
   "source": [
    "gold_train_scaled=pd.DataFrame(scaler.fit_transform(gold_train[scale_col].copy()),columns=scale_col)\n",
    "gold_test_scaled=pd.DataFrame(scaler.transform(gold_test[scale_col].copy()),columns=scale_col)"
   ]
  },
  {
   "cell_type": "markdown",
   "metadata": {},
   "source": [
    "The range og scaled values are between 0 and 1."
   ]
  },
  {
   "cell_type": "markdown",
   "metadata": {},
   "source": [
    "Time to fill NaNs."
   ]
  },
  {
   "cell_type": "code",
   "execution_count": 69,
   "metadata": {},
   "outputs": [],
   "source": [
    "imputer=KNNImputer()\n",
    "\n",
    "gold_train_scaled=pd.concat([gold_train[non_scale_col]] +  [pd.DataFrame(imputer.fit_transform(gold_train_scaled),columns=gold_train_scaled.columns)],axis=1)\n",
    "gold_test_scaled=pd.concat([gold_test[non_scale_col]]+  [pd.DataFrame(imputer.transform(gold_test_scaled),columns=gold_test_scaled.columns)],axis=1)"
   ]
  },
  {
   "cell_type": "markdown",
   "metadata": {},
   "source": [
    "Let's see how many rows left."
   ]
  },
  {
   "cell_type": "code",
   "execution_count": 70,
   "metadata": {},
   "outputs": [
    {
     "name": "stdout",
     "output_type": "stream",
     "text": [
      "Number of rows with NaNs in gold_train_scaled dataframe: 2711\n",
      "Percent of rows with NaNs in gold_train_scaled dataframe: 16\n",
      "\n",
      "Number of rows with NaNs in gold_test_scaled dataframe 566\n",
      "Percent of rows with NaNs in gold_test_scaled dataframe: 10\n"
     ]
    }
   ],
   "source": [
    "print('Number of rows with NaNs in gold_train_scaled dataframe:',gold_train_scaled.isnull().any(axis=1).sum())\n",
    "print('Percent of rows with NaNs in gold_train_scaled dataframe:',round(100*(gold_train_scaled.isnull().any(axis=1).sum()/len(gold_train))))\n",
    "print()\n",
    "print('Number of rows with NaNs in gold_test_scaled dataframe',gold_test_scaled.isnull().any(axis=1).sum())\n",
    "print('Percent of rows with NaNs in gold_test_scaled dataframe:',round(100*(gold_test_scaled.isnull().any(axis=1).sum()/len(gold_test))))"
   ]
  },
  {
   "cell_type": "markdown",
   "metadata": {},
   "source": [
    "Let's drop the NaNs."
   ]
  },
  {
   "cell_type": "code",
   "execution_count": 71,
   "metadata": {},
   "outputs": [],
   "source": [
    "gold_train_scaled=gold_train_scaled.dropna().reset_index(drop=True)\n",
    "gold_test_scaled=gold_test_scaled.dropna().reset_index(drop=True)"
   ]
  },
  {
   "cell_type": "code",
   "execution_count": 72,
   "metadata": {
    "scrolled": true
   },
   "outputs": [
    {
     "name": "stdout",
     "output_type": "stream",
     "text": [
      "NaNs in train dataframe: 0\n",
      "NaNs in test dataframe: 0\n"
     ]
    }
   ],
   "source": [
    "print('NaNs in train dataframe:',gold_train_scaled.isnull().any(axis=1).sum())\n",
    "print('NaNs in test dataframe:',gold_test_scaled.isnull().any(axis=1).sum())"
   ]
  },
  {
   "cell_type": "markdown",
   "metadata": {},
   "source": [
    "No missing values."
   ]
  },
  {
   "cell_type": "markdown",
   "metadata": {},
   "source": [
    "## Analyze the data."
   ]
  },
  {
   "cell_type": "markdown",
   "metadata": {},
   "source": [
    "2.1. Take note of how the concentrations of metals (Au, Ag, Pb) change depending on the purification stage."
   ]
  },
  {
   "cell_type": "code",
   "execution_count": 73,
   "metadata": {},
   "outputs": [
    {
     "data": {
      "image/png": "[encoded data removed]",
      "text/plain": [
       "<Figure size 936x1080 with 3 Axes>"
      ]
     },
     "metadata": {
      "needs_background": "light"
     },
     "output_type": "display_data"
    }
   ],
   "source": [
    "con=['rougher.input.feed','rougher.output.concentrate','primary_cleaner.output.concentrate','final.output.concentrate']\n",
    "metals={'_au':'Gold','_ag':'Silver','_pb':'Lead'}\n",
    "#Let's create plot for each purification stage\n",
    "fig, axes =plt.subplots(nrows=3,ncols=1,figsize=(13,15),sharey=False)\n",
    "fig.suptitle('Change in metal concentration by purification stage',fontsize=15,y=1)\n",
    "\n",
    "for x in metals.keys():\n",
    "    for c in con:\n",
    "        ax=list(metals.keys()).index(x)\n",
    "        sns.kdeplot(gold_full[(c+x)],ax=axes[ax],shade='fill',label=(c+x))\n",
    "        axes[ax].legend()\n",
    "        axes[ax].set_xlabel(metals[x]+'concentration %',fontsize=12,labelpad=10)\n",
    "        axes[ax].xaxis.set_label_position('top')\n",
    "        axes[ax].set_ylabel('density',fontsize=12)\n",
    "plt.tight_layout()\n",
    "plt.show()"
   ]
  },
  {
   "cell_type": "markdown",
   "metadata": {},
   "source": [
    "Gold recovery - with each steps of purification the concentration is increasing which is what we want to see.\n",
    "\n",
    "Silver - from the second stage of purification the concentration is decreasing.\n",
    "\n",
    "Lead - the concentration remains the same after 3rd step.\n",
    "\n",
    "Also there is problematic data of zero concentration for each step it could be problem with : technology, data corruption or outliers."
   ]
  },
  {
   "cell_type": "markdown",
   "metadata": {},
   "source": [
    "2.2. Compare the feed particle size distributions in the training set and in the test set. If the distributions vary significantly, the model evaluation will be incorrect."
   ]
  },
  {
   "cell_type": "code",
   "execution_count": 74,
   "metadata": {},
   "outputs": [
    {
     "data": {
      "image/png": "[encoded data removed]",
      "text/plain": [
       "<Figure size 1080x432 with 1 Axes>"
      ]
     },
     "metadata": {
      "needs_background": "light"
     },
     "output_type": "display_data"
    }
   ],
   "source": [
    "fig=plt.figure(figsize=(15,6))\n",
    "fig.suptitle('Distribution of primary cleaner and rougher input feed size values',fontsize=15,y=1)\n",
    "sns.kdeplot(gold_train_scaled['primary_cleaner.input.feed_size'],fill=True,label='Train-Primary feed size')\n",
    "sns.kdeplot(gold_test_scaled['primary_cleaner.input.feed_size'],fill=True,label='Test-Primary feed size')\n",
    "sns.kdeplot(gold_train_scaled['rougher.input.feed_size'],fill=True,label='Train-Rougher feed size')\n",
    "sns.kdeplot(gold_test_scaled['rougher.input.feed_size'],fill=True,label='Test-Rougher feed size')\n",
    "plt.legend(fontsize=12)\n",
    "plt.xlabel('Feed size values',fontsize=12,labelpad=10)\n",
    "plt.ylabel('Density',fontsize=12)\n",
    "plt.tight_layout()\n",
    "plt.show()"
   ]
  },
  {
   "cell_type": "markdown",
   "metadata": {},
   "source": [
    "From the plot we see that distribution are pretty much the same."
   ]
  },
  {
   "cell_type": "markdown",
   "metadata": {},
   "source": [
    "2.3. Consider the total concentrations of all substances at different stages: raw feed, rougher concentrate, and final concentrate. Do you notice any abnormal values in the total distribution? If you do, is it worth removing such values from both samples? Describe the findings and eliminate anomalies."
   ]
  },
  {
   "cell_type": "markdown",
   "metadata": {},
   "source": [
    "Let's create a function to get the total concentration of all metals."
   ]
  },
  {
   "cell_type": "code",
   "execution_count": 75,
   "metadata": {},
   "outputs": [],
   "source": [
    "def tot_con_metal(df,stage):\n",
    "    metal_handles=list(metals.keys())\n",
    "    tot_con=df[stage+metal_handles[0]]+df[stage+metal_handles[1]]+df[stage+metal_handles[2]]\n",
    "    return tot_con"
   ]
  },
  {
   "cell_type": "code",
   "execution_count": 76,
   "metadata": {},
   "outputs": [
    {
     "data": {
      "image/png": "[encoded data removed]",
      "text/plain": [
       "<Figure size 936x360 with 1 Axes>"
      ]
     },
     "metadata": {
      "needs_background": "light"
     },
     "output_type": "display_data"
    }
   ],
   "source": [
    "fig=plt.figure(figsize=(13,5))\n",
    "fig.suptitle('Total concentration of all metals by stage',fontsize=15,y=1)\n",
    "sns.kdeplot(tot_con_metal(gold_full,'rougher.input.feed'),label='rougher.input.feed',fill=True)\n",
    "sns.kdeplot(tot_con_metal(gold_full,'rougher.output.concentrate'),label='rougher.output.concentrate',fill=True)\n",
    "sns.kdeplot(tot_con_metal(gold_full,'final.output.concentrate'),label='final.output.concentrate',fill=True)\n",
    "plt.legend(fontsize=12)\n",
    "plt.xlabel('Total metal concentration %',fontsize=12,labelpad=15)\n",
    "plt.ylabel('Density',fontsize=12,labelpad=15)\n",
    "plt.tight_layout()\n",
    "plt.show()"
   ]
  },
  {
   "cell_type": "markdown",
   "metadata": {},
   "source": [
    "We need to cut the data from concentration value of 10 to cut the outliers."
   ]
  },
  {
   "cell_type": "code",
   "execution_count": 77,
   "metadata": {},
   "outputs": [],
   "source": [
    "gold_full_filt=gold_full.loc[(gold_full[['rougher.input.feed_au','rougher.input.feed_pb','rougher.input.feed_ag']].sum(axis=1)>10)\\\n",
    "                            &(gold_full[['rougher.output.concentrate_au','rougher.output.concentrate_pb','rougher.output.concentrate_ag']].sum(axis=1)>10)\\\n",
    "                            &(gold_full[['final.output.concentrate_au','final.output.concentrate_pb','final.output.concentrate_ag']].sum(axis=1)>10)]"
   ]
  },
  {
   "cell_type": "markdown",
   "metadata": {},
   "source": [
    "Let's see the new destribution."
   ]
  },
  {
   "cell_type": "code",
   "execution_count": 78,
   "metadata": {},
   "outputs": [
    {
     "data": {
      "image/png": "[encoded data removed]",
      "text/plain": [
       "<Figure size 936x360 with 1 Axes>"
      ]
     },
     "metadata": {
      "needs_background": "light"
     },
     "output_type": "display_data"
    }
   ],
   "source": [
    "fig=plt.figure(figsize=(13,5))\n",
    "fig.suptitle('Total concentration of all metals by stage filtered',fontsize=15,y=1)\n",
    "sns.kdeplot(tot_con_metal(gold_full_filt,'rougher.input.feed'),label='rougher.input.feed',fill=True)\n",
    "sns.kdeplot(tot_con_metal(gold_full_filt,'rougher.output.concentrate'),label='rougher.output.concentrate',fill=True)\n",
    "sns.kdeplot(tot_con_metal(gold_full_filt,'final.output.concentrate'),label='final.output.concentrate',fill=True)\n",
    "plt.legend(fontsize=12)\n",
    "plt.xlabel('Total metal concentration %',fontsize=12,labelpad=15)\n",
    "plt.ylabel('Density',fontsize=12,labelpad=15)\n",
    "plt.tight_layout()\n",
    "plt.show()"
   ]
  },
  {
   "cell_type": "markdown",
   "metadata": {},
   "source": [
    "No outliers anymore."
   ]
  },
  {
   "cell_type": "code",
   "execution_count": 79,
   "metadata": {},
   "outputs": [
    {
     "name": "stdout",
     "output_type": "stream",
     "text": [
      "<class 'pandas.core.frame.DataFrame'>\n",
      "RangeIndex: 14149 entries, 0 to 14148\n",
      "Data columns (total 55 columns):\n",
      " #   Column                                      Non-Null Count  Dtype  \n",
      "---  ------                                      --------------  -----  \n",
      " 0   date                                        14149 non-null  object \n",
      " 1   rougher.output.recovery                     14149 non-null  float64\n",
      " 2   final.output.recovery                       14149 non-null  float64\n",
      " 3   primary_cleaner.input.sulfate               14149 non-null  float64\n",
      " 4   primary_cleaner.input.depressant            14149 non-null  float64\n",
      " 5   primary_cleaner.input.feed_size             14149 non-null  float64\n",
      " 6   primary_cleaner.input.xanthate              14149 non-null  float64\n",
      " 7   primary_cleaner.state.floatbank8_a_air      14149 non-null  float64\n",
      " 8   primary_cleaner.state.floatbank8_a_level    14149 non-null  float64\n",
      " 9   primary_cleaner.state.floatbank8_b_air      14149 non-null  float64\n",
      " 10  primary_cleaner.state.floatbank8_b_level    14149 non-null  float64\n",
      " 11  primary_cleaner.state.floatbank8_c_air      14149 non-null  float64\n",
      " 12  primary_cleaner.state.floatbank8_c_level    14149 non-null  float64\n",
      " 13  primary_cleaner.state.floatbank8_d_air      14149 non-null  float64\n",
      " 14  primary_cleaner.state.floatbank8_d_level    14149 non-null  float64\n",
      " 15  rougher.input.feed_ag                       14149 non-null  float64\n",
      " 16  rougher.input.feed_pb                       14149 non-null  float64\n",
      " 17  rougher.input.feed_rate                     14149 non-null  float64\n",
      " 18  rougher.input.feed_size                     14149 non-null  float64\n",
      " 19  rougher.input.feed_sol                      14149 non-null  float64\n",
      " 20  rougher.input.feed_au                       14149 non-null  float64\n",
      " 21  rougher.input.floatbank10_sulfate           14149 non-null  float64\n",
      " 22  rougher.input.floatbank10_xanthate          14149 non-null  float64\n",
      " 23  rougher.input.floatbank11_sulfate           14149 non-null  float64\n",
      " 24  rougher.input.floatbank11_xanthate          14149 non-null  float64\n",
      " 25  rougher.state.floatbank10_a_air             14149 non-null  float64\n",
      " 26  rougher.state.floatbank10_a_level           14149 non-null  float64\n",
      " 27  rougher.state.floatbank10_b_air             14149 non-null  float64\n",
      " 28  rougher.state.floatbank10_b_level           14149 non-null  float64\n",
      " 29  rougher.state.floatbank10_c_air             14149 non-null  float64\n",
      " 30  rougher.state.floatbank10_c_level           14149 non-null  float64\n",
      " 31  rougher.state.floatbank10_d_air             14149 non-null  float64\n",
      " 32  rougher.state.floatbank10_d_level           14149 non-null  float64\n",
      " 33  rougher.state.floatbank10_e_air             14149 non-null  float64\n",
      " 34  rougher.state.floatbank10_e_level           14149 non-null  float64\n",
      " 35  rougher.state.floatbank10_f_air             14149 non-null  float64\n",
      " 36  rougher.state.floatbank10_f_level           14149 non-null  float64\n",
      " 37  secondary_cleaner.state.floatbank2_a_air    14149 non-null  float64\n",
      " 38  secondary_cleaner.state.floatbank2_a_level  14149 non-null  float64\n",
      " 39  secondary_cleaner.state.floatbank2_b_air    14149 non-null  float64\n",
      " 40  secondary_cleaner.state.floatbank2_b_level  14149 non-null  float64\n",
      " 41  secondary_cleaner.state.floatbank3_a_air    14149 non-null  float64\n",
      " 42  secondary_cleaner.state.floatbank3_a_level  14149 non-null  float64\n",
      " 43  secondary_cleaner.state.floatbank3_b_air    14149 non-null  float64\n",
      " 44  secondary_cleaner.state.floatbank3_b_level  14149 non-null  float64\n",
      " 45  secondary_cleaner.state.floatbank4_a_air    14149 non-null  float64\n",
      " 46  secondary_cleaner.state.floatbank4_a_level  14149 non-null  float64\n",
      " 47  secondary_cleaner.state.floatbank4_b_air    14149 non-null  float64\n",
      " 48  secondary_cleaner.state.floatbank4_b_level  14149 non-null  float64\n",
      " 49  secondary_cleaner.state.floatbank5_a_air    14149 non-null  float64\n",
      " 50  secondary_cleaner.state.floatbank5_a_level  14149 non-null  float64\n",
      " 51  secondary_cleaner.state.floatbank5_b_air    14149 non-null  float64\n",
      " 52  secondary_cleaner.state.floatbank5_b_level  14149 non-null  float64\n",
      " 53  secondary_cleaner.state.floatbank6_a_air    14149 non-null  float64\n",
      " 54  secondary_cleaner.state.floatbank6_a_level  14149 non-null  float64\n",
      "dtypes: float64(54), object(1)\n",
      "memory usage: 5.9+ MB\n"
     ]
    }
   ],
   "source": [
    "gold_train_scaled.info()"
   ]
  },
  {
   "cell_type": "code",
   "execution_count": 80,
   "metadata": {},
   "outputs": [
    {
     "data": {
      "text/html": [
       "<div>\n",
       "<style scoped>\n",
       "    .dataframe tbody tr th:only-of-type {\n",
       "        vertical-align: middle;\n",
       "    }\n",
       "\n",
       "    .dataframe tbody tr th {\n",
       "        vertical-align: top;\n",
       "    }\n",
       "\n",
       "    .dataframe thead th {\n",
       "        text-align: right;\n",
       "    }\n",
       "</style>\n",
       "<table border=\"1\" class=\"dataframe\">\n",
       "  <thead>\n",
       "    <tr style=\"text-align: right;\">\n",
       "      <th></th>\n",
       "      <th>Initial Len</th>\n",
       "      <th>New Len</th>\n",
       "      <th>Diff %</th>\n",
       "    </tr>\n",
       "  </thead>\n",
       "  <tbody>\n",
       "    <tr>\n",
       "      <th>gold train</th>\n",
       "      <td>14149</td>\n",
       "      <td>13650</td>\n",
       "      <td>3.53</td>\n",
       "    </tr>\n",
       "    <tr>\n",
       "      <th>gold test</th>\n",
       "      <td>5290</td>\n",
       "      <td>5133</td>\n",
       "      <td>2.97</td>\n",
       "    </tr>\n",
       "  </tbody>\n",
       "</table>\n",
       "</div>"
      ],
      "text/plain": [
       "            Initial Len  New Len  Diff %\n",
       "gold train        14149    13650    3.53\n",
       "gold test          5290     5133    2.97"
      ]
     },
     "metadata": {},
     "output_type": "display_data"
    }
   ],
   "source": [
    "tot_old=[len(gold_train_scaled),len(gold_test_scaled)]\n",
    "\n",
    "#removing outliers from test and train dataframe\n",
    "gold_train_scaled=gold_train_scaled.loc[gold_train_scaled['date'].isin(gold_full_filt['date'])].reset_index(drop=True)\n",
    "gold_test_scaled=gold_test_scaled.loc[gold_test_scaled['date'].isin(gold_full_filt['date'])].reset_index(drop=True)\n",
    "\n",
    "display(pd.DataFrame([[tot_old[0],len(gold_train_scaled),round((100-(len(gold_train_scaled)/tot_old[0])*100),2)],[tot_old[1],len(gold_test_scaled),round((100-(len(gold_test_scaled)/tot_old[1])*100),2)]],columns=['Initial Len','New Len','Diff %'],index=['gold train','gold test']))"
   ]
  },
  {
   "cell_type": "markdown",
   "metadata": {},
   "source": [
    "The loss is only 3.53 % not bad."
   ]
  },
  {
   "cell_type": "markdown",
   "metadata": {},
   "source": [
    "##  Build the model."
   ]
  },
  {
   "cell_type": "markdown",
   "metadata": {},
   "source": [
    "3.1. Write a function to calculate the final sMAPE value."
   ]
  },
  {
   "cell_type": "code",
   "execution_count": 81,
   "metadata": {},
   "outputs": [],
   "source": [
    "# function fot sMAPE\n",
    "def smape2(y_true,y_pred):\n",
    "    smape=np.mean(abs(y_pred-y_true)/((abs(y_true)+abs(y_pred))/2))*100\n",
    "    return smape\n",
    "# function for colculation of sMAPE\n",
    "def f_smape(y_true,y_pred):\n",
    "    predicted_rough,predicted_final=y_pred[:,0],y_pred[:,1]\n",
    "    true_rough,true_final=y_true[:,0],y_true[:,1]\n",
    "    f_smape=(0.25*(smape2(true_rough,predicted_rough)))+(0.75*(smape2(true_final,predicted_final)))\n",
    "    return f_smape\n",
    "    "
   ]
  },
  {
   "cell_type": "markdown",
   "metadata": {},
   "source": [
    "Let's create targets and faetures to to train and test dataframes."
   ]
  },
  {
   "cell_type": "code",
   "execution_count": 82,
   "metadata": {},
   "outputs": [],
   "source": [
    "targets=['rougher.output.recovery','final.output.recovery']\n",
    "features=[x for x in gold_train_scaled if x not in targets and x !='date']\n",
    "\n",
    "#splitting training and testing data to features and targets\n",
    "target_train,target_test=gold_train_scaled[targets].values,gold_test_scaled[targets].values\n",
    "features_train,features_test=gold_train_scaled[features].values,gold_test_scaled[features].values"
   ]
  },
  {
   "cell_type": "markdown",
   "metadata": {},
   "source": [
    "3.2. Train different models. Evaluate them using cross-validation. Pick the best model and test it using the test sample. Provide findings."
   ]
  },
  {
   "cell_type": "code",
   "execution_count": 87,
   "metadata": {},
   "outputs": [],
   "source": [
    "#scorer for gridsearch CV\n",
    "smape=make_scorer(f_smape,greater_is_better=False)\n",
    "\n",
    "#function to train amd fit models using gridserach CV\n",
    "def train_fit_score(model,params,name):\n",
    "    model=GridSearchCV(model, param_grid=params,cv=5,scoring=smape,verbose=0,refit=True)\n",
    "    model.fit(features_train,target_train)\n",
    "    return pd.DataFrame([[name,abs(model.best_score_),model.best_params_]],columns=['estimator','best score','best params'])    "
   ]
  },
  {
   "cell_type": "code",
   "execution_count": 90,
   "metadata": {},
   "outputs": [],
   "source": [
    "DecisionTree=train_fit_score(DecisionTreeRegressor(random_state=12345),\\\n",
    "                             {'max_depth':range(5,10,5),\\\n",
    "                              'min_impurity_decrease':np.arange(0.01,0.20,0.02),\\\n",
    "                              'min_samples_split':range(1,10,2)},'Decision Tree')"
   ]
  },
  {
   "cell_type": "code",
   "execution_count": 91,
   "metadata": {},
   "outputs": [],
   "source": [
    "LinearRegressor=train_fit_score(LinearRegression(),{},'Linear Regressor')"
   ]
  },
  {
   "cell_type": "code",
   "execution_count": 92,
   "metadata": {},
   "outputs": [],
   "source": [
    "LassoRegressor=train_fit_score(Lasso(random_state=12345),\\\n",
    "                              {'alpha':np.arange(0.01,1,0.05)},'Lasso Regressor')"
   ]
  },
  {
   "cell_type": "code",
   "execution_count": 93,
   "metadata": {},
   "outputs": [],
   "source": [
    "KNNeighbors=train_fit_score(KNeighborsRegressor(),\\\n",
    "                           {'n_neighbors':range(2,10,1),\\\n",
    "                           'weights':['uniform','distance']},'KNeighbors REgressor')"
   ]
  },
  {
   "cell_type": "code",
   "execution_count": 94,
   "metadata": {},
   "outputs": [],
   "source": [
    "RandomForest=train_fit_score(RandomForestRegressor(random_state=12345),\\\n",
    "                            {'n_estimators':range(10,85,25),\\\n",
    "                            'max_depth':range(5,45,10),\\\n",
    "                            'min_impurity_decrease':np.arange(0.05,0.25,0.1)},'Random Forest')"
   ]
  },
  {
   "cell_type": "code",
   "execution_count": 95,
   "metadata": {},
   "outputs": [
    {
     "data": {
      "text/html": [
       "<div>\n",
       "<style scoped>\n",
       "    .dataframe tbody tr th:only-of-type {\n",
       "        vertical-align: middle;\n",
       "    }\n",
       "\n",
       "    .dataframe tbody tr th {\n",
       "        vertical-align: top;\n",
       "    }\n",
       "\n",
       "    .dataframe thead th {\n",
       "        text-align: right;\n",
       "    }\n",
       "</style>\n",
       "<table border=\"1\" class=\"dataframe\">\n",
       "  <thead>\n",
       "    <tr style=\"text-align: right;\">\n",
       "      <th></th>\n",
       "      <th>best score</th>\n",
       "    </tr>\n",
       "    <tr>\n",
       "      <th>estimator</th>\n",
       "      <th></th>\n",
       "    </tr>\n",
       "  </thead>\n",
       "  <tbody>\n",
       "    <tr>\n",
       "      <th>Decision Tree</th>\n",
       "      <td>9.18</td>\n",
       "    </tr>\n",
       "    <tr>\n",
       "      <th>Linear Regressor</th>\n",
       "      <td>10.01</td>\n",
       "    </tr>\n",
       "    <tr>\n",
       "      <th>Lasso Regressor</th>\n",
       "      <td>8.51</td>\n",
       "    </tr>\n",
       "    <tr>\n",
       "      <th>KNeighbors REgressor</th>\n",
       "      <td>9.74</td>\n",
       "    </tr>\n",
       "    <tr>\n",
       "      <th>Random Forest</th>\n",
       "      <td>8.96</td>\n",
       "    </tr>\n",
       "  </tbody>\n",
       "</table>\n",
       "</div>"
      ],
      "text/plain": [
       "                      best score\n",
       "estimator                       \n",
       "Decision Tree               9.18\n",
       "Linear Regressor           10.01\n",
       "Lasso Regressor             8.51\n",
       "KNeighbors REgressor        9.74\n",
       "Random Forest               8.96"
      ]
     },
     "metadata": {},
     "output_type": "display_data"
    }
   ],
   "source": [
    "#the best score from all regressors\n",
    "scores=pd.concat([DecisionTree,LinearRegressor,LassoRegressor,KNNeighbors,RandomForest]).set_index('estimator')\n",
    "scores[\"best score\"]=scores['best score'].round(2)\n",
    "display(scores.drop('best params',axis=1))"
   ]
  },
  {
   "cell_type": "markdown",
   "metadata": {},
   "source": [
    "From the results above the Lasso Regressor has the lowest sMAPE score therefore this model is the best to perfom test on it."
   ]
  },
  {
   "cell_type": "markdown",
   "metadata": {},
   "source": [
    "Let's test the model."
   ]
  },
  {
   "cell_type": "code",
   "execution_count": 102,
   "metadata": {},
   "outputs": [
    {
     "name": "stdout",
     "output_type": "stream",
     "text": [
      "The result of sMAPE score done by Lasso Regressor on test dataframe is: 6.28\n"
     ]
    }
   ],
   "source": [
    "lasso_model=Lasso(**scores['best params'][2]).fit(features_train,target_train)\n",
    "\n",
    "lasso_smape=round(f_smape(target_test,lasso_model.predict(features_test)),2)\n",
    "print('The result of sMAPE score done by Lasso Regressor on test dataframe is:',lasso_smape )"
   ]
  },
  {
   "cell_type": "markdown",
   "metadata": {},
   "source": [
    "The result is even better than in training. However, we need to perform sanity check. "
   ]
  },
  {
   "cell_type": "code",
   "execution_count": 103,
   "metadata": {},
   "outputs": [
    {
     "name": "stdout",
     "output_type": "stream",
     "text": [
      "smape for sanity check is: 7.538551031809307\n"
     ]
    }
   ],
   "source": [
    "sanity_check=f_smape(target_test,np.tile(np.mean(target_train,axis=0),(len(target_test),1)))\n",
    "print('smape for sanity check is:',sanity_check)"
   ]
  },
  {
   "cell_type": "markdown",
   "metadata": {},
   "source": [
    "The smape of sanity check a bit higher however this difference is insignificant, therefore we can conclude that Lasso Regressor works fine."
   ]
  },
  {
   "cell_type": "markdown",
   "metadata": {},
   "source": [
    "Conclusion.\n",
    "\n",
    "The main idea of this project was to find the best prediction model for gold recovery, and the best model is Lasso Regressor.\n",
    "\n",
    "From data we got I would ask to provide cleaner data next time to see if results for finding best model for recovery predictions will change.\n",
    "\n",
    "All the best!"
   ]
  }
 ],
 "metadata": {
  "ExecuteTimeLog": [
   {
    "duration": 82,
    "start_time": "2022-04-27T16:43:07.923Z"
   },
   {
    "duration": 2712,
    "start_time": "2022-04-27T16:43:21.845Z"
   },
   {
    "duration": 20,
    "start_time": "2022-04-27T16:44:54.782Z"
   },
   {
    "duration": 85,
    "start_time": "2022-04-27T16:45:47.865Z"
   },
   {
    "duration": 136,
    "start_time": "2022-04-27T16:58:42.839Z"
   },
   {
    "duration": 126,
    "start_time": "2022-04-27T17:00:05.887Z"
   },
   {
    "duration": 2086,
    "start_time": "2022-04-27T17:00:33.581Z"
   },
   {
    "duration": 271,
    "start_time": "2022-04-27T17:00:35.670Z"
   },
   {
    "duration": 7,
    "start_time": "2022-04-27T17:01:03.121Z"
   },
   {
    "duration": 134,
    "start_time": "2022-04-27T17:01:03.130Z"
   },
   {
    "duration": 7,
    "start_time": "2022-04-27T17:05:01.939Z"
   },
   {
    "duration": 860,
    "start_time": "2022-04-27T17:05:06.399Z"
   },
   {
    "duration": 20,
    "start_time": "2022-04-27T17:05:21.541Z"
   },
   {
    "duration": 117,
    "start_time": "2022-04-27T17:05:35.114Z"
   },
   {
    "duration": 2224,
    "start_time": "2022-04-27T17:16:09.092Z"
   },
   {
    "duration": 282,
    "start_time": "2022-04-27T17:16:15.438Z"
   },
   {
    "duration": 993,
    "start_time": "2022-04-27T17:23:39.842Z"
   },
   {
    "duration": 21,
    "start_time": "2022-04-27T17:23:59.532Z"
   },
   {
    "duration": 17,
    "start_time": "2022-04-27T17:26:29.909Z"
   },
   {
    "duration": 23,
    "start_time": "2022-04-27T17:27:05.004Z"
   },
   {
    "duration": 18,
    "start_time": "2022-04-27T17:27:25.682Z"
   },
   {
    "duration": 5,
    "start_time": "2022-04-27T17:27:56.106Z"
   },
   {
    "duration": 5,
    "start_time": "2022-04-27T17:28:14.867Z"
   },
   {
    "duration": 17,
    "start_time": "2022-04-27T17:28:35.037Z"
   },
   {
    "duration": 9,
    "start_time": "2022-04-27T17:47:47.766Z"
   },
   {
    "duration": 48,
    "start_time": "2022-04-27T18:00:05.611Z"
   },
   {
    "duration": 26,
    "start_time": "2022-04-27T18:00:25.687Z"
   },
   {
    "duration": 20,
    "start_time": "2022-04-27T18:00:44.046Z"
   },
   {
    "duration": 20,
    "start_time": "2022-04-27T18:00:51.440Z"
   },
   {
    "duration": 16,
    "start_time": "2022-04-27T18:12:34.921Z"
   },
   {
    "duration": 13,
    "start_time": "2022-04-27T18:12:38.873Z"
   },
   {
    "duration": 10,
    "start_time": "2022-04-27T18:12:58.893Z"
   },
   {
    "duration": 2273,
    "start_time": "2022-04-28T00:56:24.758Z"
   },
   {
    "duration": 904,
    "start_time": "2022-04-28T00:56:27.034Z"
   },
   {
    "duration": 20,
    "start_time": "2022-04-28T00:56:27.940Z"
   },
   {
    "duration": 36,
    "start_time": "2022-04-28T00:56:27.963Z"
   },
   {
    "duration": 19,
    "start_time": "2022-04-28T00:56:28.001Z"
   },
   {
    "duration": 13,
    "start_time": "2022-04-28T00:56:28.022Z"
   },
   {
    "duration": 30,
    "start_time": "2022-04-28T00:56:28.037Z"
   },
   {
    "duration": 33,
    "start_time": "2022-04-28T00:56:28.069Z"
   },
   {
    "duration": 7,
    "start_time": "2022-04-28T01:00:53.825Z"
   },
   {
    "duration": 35,
    "start_time": "2022-04-28T01:17:45.980Z"
   },
   {
    "duration": 36,
    "start_time": "2022-04-28T01:20:15.124Z"
   },
   {
    "duration": 115,
    "start_time": "2022-04-28T01:28:50.089Z"
   },
   {
    "duration": 10,
    "start_time": "2022-04-28T01:31:32.239Z"
   },
   {
    "duration": 114,
    "start_time": "2022-04-28T01:34:12.921Z"
   },
   {
    "duration": 12,
    "start_time": "2022-04-28T01:34:23.206Z"
   },
   {
    "duration": 4,
    "start_time": "2022-04-28T01:58:10.293Z"
   },
   {
    "duration": 34,
    "start_time": "2022-04-28T02:02:24.305Z"
   },
   {
    "duration": 29,
    "start_time": "2022-04-28T02:04:27.665Z"
   },
   {
    "duration": 215,
    "start_time": "2022-04-28T02:15:09.282Z"
   },
   {
    "duration": 16013,
    "start_time": "2022-04-28T02:17:49.814Z"
   },
   {
    "duration": 59,
    "start_time": "2022-04-28T02:25:59.098Z"
   },
   {
    "duration": 212,
    "start_time": "2022-04-28T02:27:53.322Z"
   },
   {
    "duration": 8,
    "start_time": "2022-04-28T02:28:06.918Z"
   },
   {
    "duration": 15,
    "start_time": "2022-04-28T02:30:47.357Z"
   },
   {
    "duration": 19,
    "start_time": "2022-04-28T02:34:16.757Z"
   },
   {
    "duration": 971,
    "start_time": "2022-04-28T02:54:07.508Z"
   },
   {
    "duration": 849,
    "start_time": "2022-04-28T02:55:29.020Z"
   },
   {
    "duration": 4872,
    "start_time": "2022-04-28T02:55:56.363Z"
   },
   {
    "duration": 5148,
    "start_time": "2022-04-28T03:03:34.294Z"
   },
   {
    "duration": 5882,
    "start_time": "2022-04-28T03:04:01.628Z"
   },
   {
    "duration": 1081,
    "start_time": "2022-04-28T03:36:03.140Z"
   },
   {
    "duration": 5,
    "start_time": "2022-04-28T03:49:39.398Z"
   },
   {
    "duration": 1347,
    "start_time": "2022-04-28T03:56:45.145Z"
   },
   {
    "duration": 22,
    "start_time": "2022-04-28T04:08:25.504Z"
   },
   {
    "duration": 1337,
    "start_time": "2022-04-28T04:10:18.744Z"
   },
   {
    "duration": 3177,
    "start_time": "2022-04-28T04:30:56.874Z"
   },
   {
    "duration": 3297,
    "start_time": "2022-04-28T04:45:50.805Z"
   },
   {
    "duration": 3514,
    "start_time": "2022-04-28T04:46:42.102Z"
   },
   {
    "duration": 16,
    "start_time": "2022-04-28T04:48:20.841Z"
   },
   {
    "duration": 7,
    "start_time": "2022-04-28T04:49:00.545Z"
   },
   {
    "duration": 20,
    "start_time": "2022-04-28T04:49:27.577Z"
   },
   {
    "duration": 7,
    "start_time": "2022-04-28T04:51:26.158Z"
   },
   {
    "duration": 947,
    "start_time": "2022-04-28T04:51:26.168Z"
   },
   {
    "duration": 16,
    "start_time": "2022-04-28T04:51:27.117Z"
   },
   {
    "duration": 17,
    "start_time": "2022-04-28T04:51:27.135Z"
   },
   {
    "duration": 43,
    "start_time": "2022-04-28T04:51:27.155Z"
   },
   {
    "duration": 6,
    "start_time": "2022-04-28T04:51:27.200Z"
   },
   {
    "duration": 20,
    "start_time": "2022-04-28T04:51:27.208Z"
   },
   {
    "duration": 9,
    "start_time": "2022-04-28T04:51:27.231Z"
   },
   {
    "duration": 12,
    "start_time": "2022-04-28T04:51:27.242Z"
   },
   {
    "duration": 30,
    "start_time": "2022-04-28T04:51:27.293Z"
   },
   {
    "duration": 37,
    "start_time": "2022-04-28T04:51:27.325Z"
   },
   {
    "duration": 167,
    "start_time": "2022-04-28T04:51:27.364Z"
   },
   {
    "duration": 10,
    "start_time": "2022-04-28T04:51:27.533Z"
   },
   {
    "duration": 5,
    "start_time": "2022-04-28T04:51:27.547Z"
   },
   {
    "duration": 59,
    "start_time": "2022-04-28T04:51:27.554Z"
   },
   {
    "duration": 17357,
    "start_time": "2022-04-28T04:51:27.616Z"
   },
   {
    "duration": 19,
    "start_time": "2022-04-28T04:51:44.976Z"
   },
   {
    "duration": 28,
    "start_time": "2022-04-28T04:51:44.998Z"
   },
   {
    "duration": 5461,
    "start_time": "2022-04-28T04:51:45.028Z"
   },
   {
    "duration": 1258,
    "start_time": "2022-04-28T04:51:50.493Z"
   },
   {
    "duration": 4,
    "start_time": "2022-04-28T04:51:51.753Z"
   },
   {
    "duration": 1330,
    "start_time": "2022-04-28T04:51:51.759Z"
   },
   {
    "duration": 28,
    "start_time": "2022-04-28T04:51:53.092Z"
   },
   {
    "duration": 1371,
    "start_time": "2022-04-28T04:51:53.122Z"
   },
   {
    "duration": 19,
    "start_time": "2022-04-28T04:51:54.495Z"
   },
   {
    "duration": 3652,
    "start_time": "2022-04-28T04:51:54.517Z"
   },
   {
    "duration": 20,
    "start_time": "2022-04-28T04:53:53.317Z"
   },
   {
    "duration": 27,
    "start_time": "2022-04-28T04:54:13.174Z"
   },
   {
    "duration": 1937,
    "start_time": "2022-04-28T16:22:14.718Z"
   },
   {
    "duration": 797,
    "start_time": "2022-04-28T16:22:16.658Z"
   },
   {
    "duration": 19,
    "start_time": "2022-04-28T16:22:17.457Z"
   },
   {
    "duration": 12,
    "start_time": "2022-04-28T16:22:17.480Z"
   },
   {
    "duration": 35,
    "start_time": "2022-04-28T16:22:17.494Z"
   },
   {
    "duration": 7,
    "start_time": "2022-04-28T16:22:17.531Z"
   },
   {
    "duration": 27,
    "start_time": "2022-04-28T16:22:17.540Z"
   },
   {
    "duration": 11,
    "start_time": "2022-04-28T16:22:17.569Z"
   },
   {
    "duration": 12,
    "start_time": "2022-04-28T16:22:17.582Z"
   },
   {
    "duration": 44,
    "start_time": "2022-04-28T16:22:17.597Z"
   },
   {
    "duration": 25,
    "start_time": "2022-04-28T16:22:17.643Z"
   },
   {
    "duration": 93,
    "start_time": "2022-04-28T16:22:17.670Z"
   },
   {
    "duration": 9,
    "start_time": "2022-04-28T16:22:17.765Z"
   },
   {
    "duration": 3,
    "start_time": "2022-04-28T16:22:17.776Z"
   },
   {
    "duration": 49,
    "start_time": "2022-04-28T16:22:17.780Z"
   },
   {
    "duration": 18718,
    "start_time": "2022-04-28T16:22:17.831Z"
   },
   {
    "duration": 15,
    "start_time": "2022-04-28T16:22:36.551Z"
   },
   {
    "duration": 20,
    "start_time": "2022-04-28T16:22:36.568Z"
   },
   {
    "duration": 5521,
    "start_time": "2022-04-28T16:22:36.590Z"
   },
   {
    "duration": 1028,
    "start_time": "2022-04-28T16:22:42.114Z"
   },
   {
    "duration": 3,
    "start_time": "2022-04-28T16:22:43.144Z"
   },
   {
    "duration": 991,
    "start_time": "2022-04-28T16:22:43.148Z"
   },
   {
    "duration": 15,
    "start_time": "2022-04-28T16:22:44.141Z"
   },
   {
    "duration": 1324,
    "start_time": "2022-04-28T16:22:44.158Z"
   },
   {
    "duration": 17,
    "start_time": "2022-04-28T16:22:45.484Z"
   },
   {
    "duration": 133,
    "start_time": "2022-04-28T16:22:45.503Z"
   },
   {
    "duration": 3228,
    "start_time": "2022-04-28T16:28:49.905Z"
   },
   {
    "duration": 6,
    "start_time": "2022-04-28T16:42:29.183Z"
   },
   {
    "duration": 8,
    "start_time": "2022-04-28T16:43:02.017Z"
   },
   {
    "duration": 5,
    "start_time": "2022-04-28T16:48:05.023Z"
   },
   {
    "duration": 22,
    "start_time": "2022-04-28T16:48:06.888Z"
   },
   {
    "duration": 16360,
    "start_time": "2022-04-28T16:48:10.932Z"
   },
   {
    "duration": 16,
    "start_time": "2022-04-28T16:48:27.295Z"
   },
   {
    "duration": 23,
    "start_time": "2022-04-28T16:48:31.884Z"
   },
   {
    "duration": 10,
    "start_time": "2022-04-28T16:48:32.760Z"
   },
   {
    "duration": 4370,
    "start_time": "2022-04-28T16:48:38.188Z"
   },
   {
    "duration": 904,
    "start_time": "2022-04-28T16:48:50.642Z"
   },
   {
    "duration": 4,
    "start_time": "2022-04-28T16:48:57.137Z"
   },
   {
    "duration": 1478,
    "start_time": "2022-04-28T16:48:58.603Z"
   },
   {
    "duration": 20,
    "start_time": "2022-04-28T16:49:03.880Z"
   },
   {
    "duration": 1231,
    "start_time": "2022-04-28T16:49:05.732Z"
   },
   {
    "duration": 25,
    "start_time": "2022-04-28T16:49:11.688Z"
   },
   {
    "duration": 32,
    "start_time": "2022-04-28T16:49:16.621Z"
   },
   {
    "duration": 4,
    "start_time": "2022-04-28T17:02:58.473Z"
   },
   {
    "duration": 9,
    "start_time": "2022-04-28T17:10:53.073Z"
   },
   {
    "duration": 5,
    "start_time": "2022-04-28T17:22:38.236Z"
   },
   {
    "duration": 19,
    "start_time": "2022-04-28T17:50:15.082Z"
   },
   {
    "duration": 5,
    "start_time": "2022-04-28T17:50:57.223Z"
   },
   {
    "duration": 67156,
    "start_time": "2022-04-28T17:50:57.978Z"
   },
   {
    "duration": 11,
    "start_time": "2022-04-28T17:55:58.327Z"
   },
   {
    "duration": 10,
    "start_time": "2022-04-28T17:57:32.437Z"
   },
   {
    "duration": 192,
    "start_time": "2022-04-28T17:58:04.126Z"
   },
   {
    "duration": 76981,
    "start_time": "2022-04-28T17:58:56.553Z"
   },
   {
    "duration": 5,
    "start_time": "2022-04-28T20:06:53.060Z"
   },
   {
    "duration": 712,
    "start_time": "2022-04-28T20:06:53.067Z"
   },
   {
    "duration": 12,
    "start_time": "2022-04-28T20:06:53.781Z"
   },
   {
    "duration": 27,
    "start_time": "2022-04-28T20:06:53.795Z"
   },
   {
    "duration": 17,
    "start_time": "2022-04-28T20:06:53.824Z"
   },
   {
    "duration": 23,
    "start_time": "2022-04-28T20:06:53.842Z"
   },
   {
    "duration": 17,
    "start_time": "2022-04-28T20:06:53.867Z"
   },
   {
    "duration": 16,
    "start_time": "2022-04-28T20:06:53.885Z"
   },
   {
    "duration": 13,
    "start_time": "2022-04-28T20:06:53.903Z"
   },
   {
    "duration": 31,
    "start_time": "2022-04-28T20:06:53.918Z"
   },
   {
    "duration": 29,
    "start_time": "2022-04-28T20:06:53.951Z"
   },
   {
    "duration": 68,
    "start_time": "2022-04-28T20:06:53.981Z"
   },
   {
    "duration": 9,
    "start_time": "2022-04-28T20:06:54.050Z"
   },
   {
    "duration": 21,
    "start_time": "2022-04-28T20:06:54.061Z"
   },
   {
    "duration": 30,
    "start_time": "2022-04-28T20:06:54.084Z"
   },
   {
    "duration": 14307,
    "start_time": "2022-04-28T20:06:54.116Z"
   },
   {
    "duration": 21,
    "start_time": "2022-04-28T20:07:08.425Z"
   },
   {
    "duration": 20,
    "start_time": "2022-04-28T20:07:08.448Z"
   },
   {
    "duration": 8,
    "start_time": "2022-04-28T20:07:08.469Z"
   },
   {
    "duration": 4987,
    "start_time": "2022-04-28T20:07:08.479Z"
   },
   {
    "duration": 996,
    "start_time": "2022-04-28T20:07:13.468Z"
   },
   {
    "duration": 3,
    "start_time": "2022-04-28T20:07:14.466Z"
   },
   {
    "duration": 1061,
    "start_time": "2022-04-28T20:07:14.472Z"
   },
   {
    "duration": 15,
    "start_time": "2022-04-28T20:07:15.538Z"
   },
   {
    "duration": 1102,
    "start_time": "2022-04-28T20:07:15.554Z"
   },
   {
    "duration": 14,
    "start_time": "2022-04-28T20:07:16.658Z"
   },
   {
    "duration": 21,
    "start_time": "2022-04-28T20:07:16.674Z"
   },
   {
    "duration": 16,
    "start_time": "2022-04-28T20:07:16.696Z"
   },
   {
    "duration": 26,
    "start_time": "2022-04-28T20:07:16.715Z"
   },
   {
    "duration": 28,
    "start_time": "2022-04-28T20:07:16.742Z"
   },
   {
    "duration": 60924,
    "start_time": "2022-04-28T20:07:16.772Z"
   },
   {
    "duration": 0,
    "start_time": "2022-04-28T20:08:17.698Z"
   },
   {
    "duration": 4,
    "start_time": "2022-04-28T20:12:17.782Z"
   },
   {
    "duration": 58763,
    "start_time": "2022-04-28T20:12:21.447Z"
   },
   {
    "duration": 4,
    "start_time": "2022-04-28T20:13:57.258Z"
   },
   {
    "duration": 0,
    "start_time": "2022-04-28T20:20:49.657Z"
   },
   {
    "duration": 236386,
    "start_time": "2022-04-28T20:20:56.057Z"
   },
   {
    "duration": 56493,
    "start_time": "2022-04-28T20:27:49.131Z"
   },
   {
    "duration": 1009,
    "start_time": "2022-04-28T20:28:50.923Z"
   },
   {
    "duration": 26949,
    "start_time": "2022-04-28T20:28:58.583Z"
   },
   {
    "duration": 70631,
    "start_time": "2022-04-28T20:29:37.594Z"
   },
   {
    "duration": 1129767,
    "start_time": "2022-04-28T20:30:55.160Z"
   },
   {
    "duration": 15,
    "start_time": "2022-04-28T20:50:39.260Z"
   },
   {
    "duration": 14,
    "start_time": "2022-04-28T21:01:21.255Z"
   },
   {
    "duration": 10,
    "start_time": "2022-04-28T21:02:20.634Z"
   },
   {
    "duration": 175,
    "start_time": "2022-04-28T21:02:52.954Z"
   },
   {
    "duration": 129,
    "start_time": "2022-04-28T21:03:54.300Z"
   },
   {
    "duration": 827,
    "start_time": "2022-04-28T21:04:32.096Z"
   },
   {
    "duration": 282,
    "start_time": "2022-04-28T21:04:42.252Z"
   },
   {
    "duration": 202,
    "start_time": "2022-04-28T21:04:56.422Z"
   },
   {
    "duration": 4,
    "start_time": "2022-04-28T21:17:19.566Z"
   }
  ],
  "kernelspec": {
   "display_name": "Python 3 (ipykernel)",
   "language": "python",
   "name": "python3"
  },
  "language_info": {
   "codemirror_mode": {
    "name": "ipython",
    "version": 3
   },
   "file_extension": ".py",
   "mimetype": "text/x-python",
   "name": "python",
   "nbconvert_exporter": "python",
   "pygments_lexer": "ipython3",
   "version": "3.9.5"
  },
  "toc": {
   "base_numbering": 1,
   "nav_menu": {},
   "number_sections": true,
   "sideBar": true,
   "skip_h1_title": true,
   "title_cell": "Table of Contents",
   "title_sidebar": "Contents",
   "toc_cell": false,
   "toc_position": {},
   "toc_section_display": true,
   "toc_window_display": false
  }
 },
 "nbformat": 4,
 "nbformat_minor": 2
}
